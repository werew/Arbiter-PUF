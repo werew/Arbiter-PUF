{
 "cells": [
  {
   "cell_type": "code",
   "execution_count": 1,
   "metadata": {},
   "outputs": [],
   "source": [
    "import numpy as np\n",
    "import pandas as pd\n",
    "import scipy\n",
    "from scipy.stats import multivariate_normal\n",
    "from sklearn.metrics import accuracy_score"
   ]
  },
  {
   "cell_type": "markdown",
   "metadata": {},
   "source": [
    "## HW model"
   ]
  },
  {
   "cell_type": "code",
   "execution_count": 2,
   "metadata": {},
   "outputs": [],
   "source": [
    "# Let's first load the data\n",
    "mhw = pd.read_csv(\"lab/model_HW.csv\",header=None)\n",
    "thw = pd.read_csv(\"lab/traces_50_HW.csv\",header=None,sep='\\s+')\n",
    "\n",
    "trainsize = 25000\n",
    "y_train = mhw.iloc[:trainsize]\n",
    "x_train = thw.iloc[:trainsize]\n",
    "y_test  = mhw.iloc[trainsize:50000]\n",
    "x_test  = thw.iloc[trainsize:50000]"
   ]
  },
  {
   "cell_type": "code",
   "execution_count": 3,
   "metadata": {},
   "outputs": [],
   "source": [
    "# Build pdf for each HW\n",
    "pdfs = []\n",
    "for hw in range(0,9):\n",
    "    mean_matrix = x_train[y_train[0] == hw].mean()\n",
    "    cov_matrix  = scipy.cov(x_train[y_train[0] == hw],rowvar=False)\n",
    "    pdfs.append(multivariate_normal(mean_matrix,cov_matrix))"
   ]
  },
  {
   "cell_type": "code",
   "execution_count": 4,
   "metadata": {},
   "outputs": [
    {
     "name": "stdout",
     "output_type": "stream",
     "text": [
      "0.8102\n"
     ]
    }
   ],
   "source": [
    "# Try to predict HW using a single trace (we just pick the best guess)\n",
    "predict = lambda trace: np.argmax(map(lambda p: p.pdf(trace), pdfs))\n",
    "y_pred  = x_test.apply(predict,axis=1)\n",
    "print accuracy_score(y_test,y_pred)"
   ]
  },
  {
   "cell_type": "code",
   "execution_count": 5,
   "metadata": {},
   "outputs": [
    {
     "name": "stdout",
     "output_type": "stream",
     "text": [
      "0.7777777777777778\n"
     ]
    }
   ],
   "source": [
    "# Try to predict HW using a using multiple traces (see https://wiki.newae.com/Template_Attacks \"Combining the Results\")\n",
    "y_pred = []\n",
    "for hw in range(0,9):\n",
    "    tmp = []\n",
    "    for p in pdfs:\n",
    "        probs = p.pdf(x_test[y_test[0] == hw])\n",
    "        \n",
    "        r = 0\n",
    "        for x in probs:\n",
    "            if x != 0: r += np.log(x)\n",
    "            r += 0 if x == 0 else np.log(x)\n",
    "        tmp.append(r)\n",
    "        \n",
    "    y_pred.append(np.argmax(tmp))\n",
    "    \n",
    "print accuracy_score(range(0,9),y_pred)"
   ]
  },
  {
   "cell_type": "markdown",
   "metadata": {},
   "source": [
    "## Value model"
   ]
  },
  {
   "cell_type": "code",
   "execution_count": 6,
   "metadata": {},
   "outputs": [],
   "source": [
    "# Let's first load the data\n",
    "mhw = pd.read_csv(\"lab/model_value.csv\",header=None)\n",
    "thw = pd.read_csv(\"lab/traces_50_Value.csv\",header=None,sep='\\s+')\n",
    "\n",
    "\n",
    "trainsize = 25000\n",
    "y_train = mhw.iloc[:trainsize]\n",
    "x_train = thw.iloc[:trainsize]\n",
    "y_test  = mhw.iloc[trainsize:50000]\n",
    "x_test  = thw.iloc[trainsize:50000]"
   ]
  },
  {
   "cell_type": "code",
   "execution_count": 7,
   "metadata": {},
   "outputs": [],
   "source": [
    "# Build pdf for each value\n",
    "pdfs = []\n",
    "for value in range(0,255):\n",
    "    mean_matrix = x_train[y_train[0] == value].mean()\n",
    "    cov_matrix  = scipy.cov(x_train[y_train[0] == value],rowvar=False)\n",
    "    pdfs.append(multivariate_normal(mean_matrix,cov_matrix))"
   ]
  },
  {
   "cell_type": "code",
   "execution_count": 8,
   "metadata": {},
   "outputs": [
    {
     "name": "stdout",
     "output_type": "stream",
     "text": [
      "0.09764\n"
     ]
    }
   ],
   "source": [
    "# Try to predict values using a single trace (we just pick the best guess)\n",
    "predict = lambda trace: np.argmax(map(lambda p: p.pdf(trace), pdfs))\n",
    "y_pred = x_test.apply(predict,axis=1)\n",
    "print accuracy_score(y_test,y_pred)"
   ]
  },
  {
   "cell_type": "code",
   "execution_count": 9,
   "metadata": {},
   "outputs": [
    {
     "name": "stdout",
     "output_type": "stream",
     "text": [
      "0.24705882352941178\n"
     ]
    }
   ],
   "source": [
    "# Try to predict values using a using multiple traces (see https://wiki.newae.com/Template_Attacks \"Combining the Results\")\n",
    "y_pred = []\n",
    "for value in range(0,255):\n",
    "    tmp = []\n",
    "    for p in pdfs:\n",
    "        probs = p.pdf(x_test[y_test[0] == value])\n",
    "        if isinstance(probs,np.float64): probs = [probs]\n",
    "            \n",
    "        r = 0\n",
    "        for x in probs:\n",
    "            if x != 0: r += np.log(x)\n",
    "            r += 0 if x == 0 else np.log(x)\n",
    "        tmp.append(r)\n",
    "    y_pred.append(np.argmax(tmp))\n",
    "\n",
    "print accuracy_score(range(0,255),y_pred)"
   ]
  },
  {
   "cell_type": "code",
   "execution_count": null,
   "metadata": {},
   "outputs": [],
   "source": []
  }
 ],
 "metadata": {
  "kernelspec": {
   "display_name": "Python 2",
   "language": "python",
   "name": "python2"
  },
  "language_info": {
   "codemirror_mode": {
    "name": "ipython",
    "version": 2
   },
   "file_extension": ".py",
   "mimetype": "text/x-python",
   "name": "python",
   "nbconvert_exporter": "python",
   "pygments_lexer": "ipython2",
   "version": "2.7.14"
  }
 },
 "nbformat": 4,
 "nbformat_minor": 2
}
