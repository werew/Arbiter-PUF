{
 "cells": [
  {
   "cell_type": "code",
   "execution_count": 57,
   "metadata": {},
   "outputs": [],
   "source": [
    "import numpy as np\n",
    "import pandas as pd\n",
    "import scipy\n",
    "from scipy.stats import multivariate_normal\n",
    "from sklearn.metrics import accuracy_score"
   ]
  },
  {
   "cell_type": "code",
   "execution_count": 66,
   "metadata": {},
   "outputs": [],
   "source": [
    "mhw = pd.read_csv(\"easy/model_HW.csv\",header=None)\n",
    "thw = pd.read_csv(\"easy/traces_50_HW.csv\",header=None,sep='\\s+')\n",
    "\n",
    "trainsize = 50000\n",
    "y_train = mhw.iloc[:trainsize]\n",
    "x_train = thw.iloc[:trainsize]\n",
    "y_test  = mhw.iloc[trainsize:]\n",
    "x_test  = thw.iloc[trainsize:]"
   ]
  },
  {
   "cell_type": "code",
   "execution_count": 67,
   "metadata": {},
   "outputs": [],
   "source": [
    "operations = range(0,9)\n",
    "\n",
    "pdfs = []\n",
    "for op in operations:\n",
    "    mean_matrix = x_train[y_train[0] == op].mean()\n",
    "    cov_matrix  = scipy.cov(x_train[y_train[0] == op],rowvar=False)\n",
    "    pdfs.append(multivariate_normal(mean_matrix,cov_matrix))"
   ]
  },
  {
   "cell_type": "code",
   "execution_count": 68,
   "metadata": {},
   "outputs": [],
   "source": [
    "predict = lambda trace: np.argmax(map(lambda p: p.pdf(trace), pdfs))\n",
    "y_pred  = x_test.apply(predict,axis=1)"
   ]
  },
  {
   "cell_type": "code",
   "execution_count": 69,
   "metadata": {},
   "outputs": [
    {
     "name": "stdout",
     "output_type": "stream",
     "text": [
      "0.81502\n"
     ]
    }
   ],
   "source": [
    "print accuracy_score(y_test,y_pred)"
   ]
  },
  {
   "cell_type": "code",
   "execution_count": 74,
   "metadata": {},
   "outputs": [],
   "source": [
    "mhw = pd.read_csv(\"easy/model_value.csv\",header=None)\n",
    "thw = pd.read_csv(\"easy/traces_50_Value.csv\",header=None,sep='\\s+')\n",
    "\n",
    "\n",
    "trainsize = 90000\n",
    "y_train = mhw.iloc[:trainsize]\n",
    "x_train = thw.iloc[:trainsize]\n",
    "y_test  = mhw.iloc[trainsize:]\n",
    "x_test  = thw.iloc[trainsize:]"
   ]
  },
  {
   "cell_type": "code",
   "execution_count": 75,
   "metadata": {},
   "outputs": [],
   "source": [
    "operations = range(0,255)\n",
    "\n",
    "pdfs = []\n",
    "for op in operations:\n",
    "    mean_matrix = x_train[y_train[0] == op].mean()\n",
    "    cov_matrix  = scipy.cov(x_train[y_train[0] == op],rowvar=False)\n",
    "    pdfs.append(multivariate_normal(mean_matrix,cov_matrix))"
   ]
  },
  {
   "cell_type": "code",
   "execution_count": null,
   "metadata": {},
   "outputs": [],
   "source": [
    "predict = lambda trace: np.argmax(map(lambda p: p.pdf(trace), pdfs))\n",
    "y_pred = x_test.apply(predict,axis=1)"
   ]
  },
  {
   "cell_type": "code",
   "execution_count": null,
   "metadata": {},
   "outputs": [],
   "source": [
    "accuracy_score(y_test,y_pred)"
   ]
  },
  {
   "cell_type": "code",
   "execution_count": null,
   "metadata": {},
   "outputs": [],
   "source": []
  }
 ],
 "metadata": {
  "kernelspec": {
   "display_name": "Python 2",
   "language": "python",
   "name": "python2"
  },
  "language_info": {
   "codemirror_mode": {
    "name": "ipython",
    "version": 2
   },
   "file_extension": ".py",
   "mimetype": "text/x-python",
   "name": "python",
   "nbconvert_exporter": "python",
   "pygments_lexer": "ipython2",
   "version": "2.7.14"
  }
 },
 "nbformat": 4,
 "nbformat_minor": 2
}
